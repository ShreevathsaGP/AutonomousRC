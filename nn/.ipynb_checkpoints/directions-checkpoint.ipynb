{
 "cells": [
  {
   "cell_type": "code",
   "execution_count": 2,
   "metadata": {},
   "outputs": [],
   "source": [
    "# imports\n",
    "import numpy as np\n",
    "import tensorflow as tf\n",
    "import time, datetime, os\n",
    "from tensorflow import keras\n",
    "from tensorflow.keras import *\n",
    "from tensorflow.keras.layers import *"
   ]
  },
  {
   "cell_type": "code",
   "execution_count": 3,
   "metadata": {},
   "outputs": [],
   "source": [
    "training_data = None\n",
    "validation_data = None\n",
    "testing_data = None"
   ]
  },
  {
   "cell_type": "markdown",
   "metadata": {},
   "source": [
    "### Activation Functions for Reference"
   ]
  },
  {
   "cell_type": "markdown",
   "metadata": {},
   "source": [
    "<img src=\"https://miro.medium.com/max/1192/1*4ZEDRpFuCIpUjNgjDdT2Lg.png\" width = 700></img>"
   ]
  },
  {
   "cell_type": "code",
   "execution_count": 4,
   "metadata": {},
   "outputs": [],
   "source": [
    "class CNNDirectionModel:\n",
    "    def __init__(self, summarize = True, base_filters = 24, augmentation = True):\n",
    "        self.summarize = summarize\n",
    "        self.initialize_model(base_filters)\n",
    "        \n",
    "    def initialize_model(self, base_filters):\n",
    "        # models (NVIDIA Self-Driving Model) # elu => Exponential Linear Unit\n",
    "        inputs = keras.layers.Input(shape = (66, 200, 3))\n",
    "        convolution_1 = keras.layers.Conv2D(filters = 24, kernel_size = (5,5), activation = 'elu', strides = (2,2))(inputs)\n",
    "        convolution_2 = keras.layers.Conv2D(filters = 36, kernel_size = (5,5), activation = 'elu', strides = (2,2))(convolution_1)\n",
    "        convolution_3 = keras.layers.Conv2D(filters = 48, kernel_size = (5,5), activation = 'elu', strides = (2,2))(convolution_2)\n",
    "        convolution_4 = keras.layers.Conv2D(filters = 64, kernel_size = (3,3), activation = 'elu', strides = (1,1))(convolution_3)\n",
    "        convolution_5 = keras.layers.Conv2D(filters = 64, kernel_size = (3,3), activation = 'elu', strides = (1,1))(convolution_4)\n",
    "        dropout_layer = keras.layers.Dropout(0.5)(convolution_5)\n",
    "        flatten_layer = keras.layers.Flatten()(dropout_layer)\n",
    "        dense_layer_1 = keras.layers.Dense(units = 100, activation = 'elu')(flatten_layer)\n",
    "        dense_layer_2 = keras.layers.Dense(units = 50, activation = 'elu')(dense_layer_1)\n",
    "        dense_layer_3 = keras.layers.Dense(units = 10, activation = 'elu')(dense_layer_2)\n",
    "        output = keras.layers.Dense(units = 4)(dense_layer_3)\n",
    "\n",
    "        model = keras.models.Model(inputs = inputs, outputs = output)\n",
    "        model.compile(optimizer = 'adam', loss = 'mse')\n",
    "        if self.summarize:\n",
    "            model.summary()"
   ]
  },
  {
   "cell_type": "code",
   "execution_count": 2,
   "metadata": {},
   "outputs": [],
   "source": [
    "class ANNDirectionModel:\n",
    "    def __init__(self, summarize = True, input_shape = (320, 240, 3), augmentation = True):\n",
    "        self.summarize = summarize\n",
    "        self.input_shape = input_shape\n",
    "        self.augmentation = augmentation\n",
    "        self.initialize_model(input_shape)\n",
    "    \n",
    "    def initialize_model(self, input_shape):\n",
    "        print(np.prod(input_shape))\n",
    "        exit()\n",
    "        # simple (ANN != CNN) model for mapping output\n",
    "        inputs = keras.layers.Input(shape = (1, np.prod(input_shape)))\n",
    "        dense_layer_1 = keras.layers.Dense(units = int(np.prod(input_shape) / 10), activation = 'relu')(inputs)\n",
    "        dense_layer_2 = keras.layers.Dense(units = int(np.prod(input_shape) / 20), activation = 'relu')(dense_layer_1)\n",
    "        output = keras.layers.Dense(units = 4, activation = 'softmax')(dense_layer_2)\n",
    "        \n",
    "        model = keras.models.Model(inputs = inputs, outputs = output)\n",
    "        model.compile(optimizer = 'adam', loss = keras.losses.categorical_crossentropy)\n",
    "        if self.summarize:\n",
    "            model.summary()"
   ]
  },
  {
   "cell_type": "code",
   "execution_count": 1,
   "metadata": {},
   "outputs": [
    {
     "ename": "NameError",
     "evalue": "name 'ANNDirectionModel' is not defined",
     "output_type": "error",
     "traceback": [
      "\u001b[0;31m---------------------------------------------------------------------------\u001b[0m",
      "\u001b[0;31mNameError\u001b[0m                                 Traceback (most recent call last)",
      "\u001b[0;32m<ipython-input-1-e8c904198ee2>\u001b[0m in \u001b[0;36m<module>\u001b[0;34m\u001b[0m\n\u001b[0;32m----> 1\u001b[0;31m \u001b[0mANNDirectionModel\u001b[0m\u001b[0;34m(\u001b[0m\u001b[0msummarize\u001b[0m \u001b[0;34m=\u001b[0m \u001b[0;32mTrue\u001b[0m\u001b[0;34m)\u001b[0m\u001b[0;34m\u001b[0m\u001b[0;34m\u001b[0m\u001b[0m\n\u001b[0m",
      "\u001b[0;31mNameError\u001b[0m: name 'ANNDirectionModel' is not defined"
     ]
    }
   ],
   "source": [
    "ANNDirectionModel(summarize = True)"
   ]
  }
 ],
 "metadata": {
  "kernelspec": {
   "display_name": "Python 3",
   "language": "python",
   "name": "python3"
  },
  "language_info": {
   "codemirror_mode": {
    "name": "ipython",
    "version": 3
   },
   "file_extension": ".py",
   "mimetype": "text/x-python",
   "name": "python",
   "nbconvert_exporter": "python",
   "pygments_lexer": "ipython3",
   "version": "3.7.2"
  }
 },
 "nbformat": 4,
 "nbformat_minor": 4
}
