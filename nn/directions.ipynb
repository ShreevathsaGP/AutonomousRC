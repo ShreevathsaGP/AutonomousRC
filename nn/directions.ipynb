{
 "cells": [
  {
   "cell_type": "code",
   "execution_count": 2,
   "metadata": {},
   "outputs": [],
   "source": [
    "# imports\n",
    "import numpy as np\n",
    "import tensorflow as tf\n",
    "import time, datetime, os\n",
    "from tensorflow import keras\n",
    "from tensorflow.keras import *\n",
    "from tensorflow.keras.layers import *"
   ]
  },
  {
   "cell_type": "code",
   "execution_count": 3,
   "metadata": {},
   "outputs": [],
   "source": [
    "training_data = None\n",
    "validation_data = None\n",
    "testing_data = None"
   ]
  },
  {
   "cell_type": "markdown",
   "metadata": {},
   "source": [
    "### Activation Functions for Reference"
   ]
  },
  {
   "cell_type": "markdown",
   "metadata": {},
   "source": [
    "<img src=\"https://miro.medium.com/max/1192/1*4ZEDRpFuCIpUjNgjDdT2Lg.png\" width = 700></img>"
   ]
  },
  {
   "cell_type": "code",
   "execution_count": 4,
   "metadata": {},
   "outputs": [],
   "source": [
    "class CNNDirectionModel:\n",
    "    def __init__(self, summarize = True, base_filters = 24, augmentation = True):\n",
    "        self.summarize = summarize\n",
    "        self.initialize_model(base_filters)\n",
    "        \n",
    "    def initialize_model(self, base_filters):\n",
    "        # models (NVIDIA Self-Driving Model) # elu => Exponential Linear Unit\n",
    "        inputs = keras.layers.Input(shape = (66, 200, 3))\n",
    "        convolution_1 = keras.layers.Conv2D(filters = 24, kernel_size = (5,5), activation = 'elu', strides = (2,2))(inputs)\n",
    "        convolution_2 = keras.layers.Conv2D(filters = 36, kernel_size = (5,5), activation = 'elu', strides = (2,2))(convolution_1)\n",
    "        convolution_3 = keras.layers.Conv2D(filters = 48, kernel_size = (5,5), activation = 'elu', strides = (2,2))(convolution_2)\n",
    "        convolution_4 = keras.layers.Conv2D(filters = 64, kernel_size = (3,3), activation = 'elu', strides = (1,1))(convolution_3)\n",
    "        convolution_5 = keras.layers.Conv2D(filters = 64, kernel_size = (3,3), activation = 'elu', strides = (1,1))(convolution_4)\n",
    "        dropout_layer = keras.layers.Dropout(0.5)(convolution_5)\n",
    "        flatten_layer = keras.layers.Flatten()(dropout_layer)\n",
    "        dense_layer_1 = keras.layers.Dense(units = 100, activation = 'elu')(flatten_layer)\n",
    "        dense_layer_2 = keras.layers.Dense(units = 50, activation = 'elu')(dense_layer_1)\n",
    "        dense_layer_3 = keras.layers.Dense(units = 10, activation = 'elu')(dense_layer_2)\n",
    "        output = keras.layers.Dense(units = 4)(dense_layer_3)\n",
    "\n",
    "        model = keras.models.Model(inputs = inputs, outputs = output)\n",
    "        model.compile(optimizer = 'adam', loss = 'mse')\n",
    "        if self.summarize:\n",
    "            model.summary()"
   ]
  },
  {
   "cell_type": "code",
   "execution_count": 8,
   "metadata": {},
   "outputs": [],
   "source": [
    "# this model will kill your computer if the input shape is too high\n",
    "class ANNDirectionModel:\n",
    "    def __init__(self, summarize = True, input_shape = (32, 32, 3), augmentation = True):\n",
    "        self.summarize = summarize\n",
    "        self.input_shape = input_shape\n",
    "        self.augmentation = augmentation\n",
    "        self.initialize_model(input_shape)\n",
    "    \n",
    "    def initialize_model(self, input_shape):\n",
    "        # simple (ANN != CNN) model for mapping output\n",
    "        inputs = keras.layers.Input(shape = (1, np.prod(input_shape)))\n",
    "        dense_layer_1 = keras.layers.Dense(units = int(np.prod(input_shape) / 10), activation = 'relu')(inputs)\n",
    "        dense_layer_2 = keras.layers.Dense(units = int(np.prod(input_shape) / 20), activation = 'relu')(dense_layer_1)\n",
    "        output = keras.layers.Dense(units = 4, activation = 'softmax')(dense_layer_2)\n",
    "        \n",
    "        model = keras.models.Model(inputs = inputs, outputs = output)\n",
    "        model.compile(optimizer = 'adam', loss = keras.losses.categorical_crossentropy)\n",
    "        if self.summarize:\n",
    "            model.summary()"
   ]
  },
  {
   "cell_type": "code",
   "execution_count": 7,
   "metadata": {},
   "outputs": [
    {
     "name": "stdout",
     "output_type": "stream",
     "text": [
      "Model: \"model\"\n",
      "_________________________________________________________________\n",
      "Layer (type)                 Output Shape              Param #   \n",
      "=================================================================\n",
      "input_1 (InputLayer)         [(None, 66, 200, 3)]      0         \n",
      "_________________________________________________________________\n",
      "conv2d (Conv2D)              (None, 31, 98, 24)        1824      \n",
      "_________________________________________________________________\n",
      "conv2d_1 (Conv2D)            (None, 14, 47, 36)        21636     \n",
      "_________________________________________________________________\n",
      "conv2d_2 (Conv2D)            (None, 5, 22, 48)         43248     \n",
      "_________________________________________________________________\n",
      "conv2d_3 (Conv2D)            (None, 3, 20, 64)         27712     \n",
      "_________________________________________________________________\n",
      "conv2d_4 (Conv2D)            (None, 1, 18, 64)         36928     \n",
      "_________________________________________________________________\n",
      "dropout (Dropout)            (None, 1, 18, 64)         0         \n",
      "_________________________________________________________________\n",
      "flatten (Flatten)            (None, 1152)              0         \n",
      "_________________________________________________________________\n",
      "dense (Dense)                (None, 100)               115300    \n",
      "_________________________________________________________________\n",
      "dense_1 (Dense)              (None, 50)                5050      \n",
      "_________________________________________________________________\n",
      "dense_2 (Dense)              (None, 10)                510       \n",
      "_________________________________________________________________\n",
      "dense_3 (Dense)              (None, 4)                 44        \n",
      "=================================================================\n",
      "Total params: 252,252\n",
      "Trainable params: 252,252\n",
      "Non-trainable params: 0\n",
      "_________________________________________________________________\n"
     ]
    },
    {
     "data": {
      "text/plain": [
       "<__main__.CNNDirectionModel at 0x111180780>"
      ]
     },
     "execution_count": 7,
     "metadata": {},
     "output_type": "execute_result"
    }
   ],
   "source": [
    "CNNDirectionModel()"
   ]
  },
  {
   "cell_type": "code",
   "execution_count": null,
   "metadata": {},
   "outputs": [],
   "source": []
  }
 ],
 "metadata": {
  "kernelspec": {
   "display_name": "Python 3",
   "language": "python",
   "name": "python3"
  },
  "language_info": {
   "codemirror_mode": {
    "name": "ipython",
    "version": 3
   },
   "file_extension": ".py",
   "mimetype": "text/x-python",
   "name": "python",
   "nbconvert_exporter": "python",
   "pygments_lexer": "ipython3",
   "version": "3.7.2"
  }
 },
 "nbformat": 4,
 "nbformat_minor": 4
}
